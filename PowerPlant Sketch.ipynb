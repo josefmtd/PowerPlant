{
 "cells": [
  {
   "cell_type": "code",
   "execution_count": 1,
   "id": "1619c073-6212-4296-bd10-93584ea5899e",
   "metadata": {},
   "outputs": [],
   "source": [
    "import geemap\n",
    "import ee\n",
    "\n",
    "from ipyleaflet import TileLayer, basemaps\n",
    "from ipyleaflet.velocity import Velocity\n",
    "\n",
    "import xarray as xr\n",
    "import datetime"
   ]
  },
  {
   "cell_type": "code",
   "execution_count": 2,
   "id": "909259ed-ee1a-43b9-8fa6-7b0ab263b476",
   "metadata": {},
   "outputs": [],
   "source": [
    "from siphon.catalog import TDSCatalog"
   ]
  },
  {
   "cell_type": "code",
   "execution_count": 3,
   "id": "5caba856-a71f-48a1-a352-716629c24be2",
   "metadata": {},
   "outputs": [],
   "source": [
    "ee.Initialize()"
   ]
  },
  {
   "cell_type": "code",
   "execution_count": 4,
   "id": "1c72a38c-fc5e-44dc-b948-400f7d7ef308",
   "metadata": {},
   "outputs": [],
   "source": [
    "# Observed date in UTC\n",
    "noon_wib = datetime.datetime(2021, 7, 7, 6)"
   ]
  },
  {
   "cell_type": "code",
   "execution_count": 5,
   "id": "3c22a587-8a82-4741-a9ca-b538c08163e2",
   "metadata": {
    "tags": []
   },
   "outputs": [],
   "source": [
    "# Use wind data from GFS\n",
    "BASE_URL = 'http://thredds.ucar.edu/thredds/catalog/grib/NCEP/GFS/Global_0p25deg/catalog.xml'\n",
    "BEST_GFS = BASE_URL + '?dataset=grib/NCEP/GFS/Global_0p25deg/Best'\n",
    "\n",
    "best_gfs = TDSCatalog(BEST_GFS)\n",
    "best_ds = best_gfs.datasets[0]\n",
    "ncss = best_ds.subset()"
   ]
  },
  {
   "cell_type": "code",
   "execution_count": 6,
   "id": "e8846bda-01a2-4fdb-bf94-dd18fb016a53",
   "metadata": {
    "tags": []
   },
   "outputs": [],
   "source": [
    "# Variable names\n",
    "u_wind = 'u-component_of_wind_height_above_ground'\n",
    "v_wind = 'v-component_of_wind_height_above_ground'\n",
    "\n",
    "# GFS Query\n",
    "query = ncss.query()\n",
    "\n",
    "query.lonlat_box(north = -5, south = -9, east = 115, west = 105)\n",
    "query.time(noon_wib)\n",
    "query.variables(u_wind)\n",
    "query.variables(v_wind)\n",
    "\n",
    "data = ncss.get_data(query)\n",
    "ds = xr.open_dataset(xr.backends.NetCDF4DataStore(data)) \\\n",
    "    .sel(height_above_ground4 = 10.0) \\\n",
    "    .sel(time = noon_wib)"
   ]
  },
  {
   "cell_type": "code",
   "execution_count": 7,
   "id": "9750435a-1b9c-495e-be75-a4efc2f1c56f",
   "metadata": {},
   "outputs": [
    {
     "data": {
      "application/vnd.jupyter.widget-view+json": {
       "model_id": "82ee79200788457e97225cce4969289e",
       "version_major": 2,
       "version_minor": 0
      },
      "text/plain": [
       "Map(center=[-6.2, 106.5], controls=(WidgetControl(options=['position', 'transparent_bg'], widget=HBox(children…"
      ]
     },
     "metadata": {},
     "output_type": "display_data"
    }
   ],
   "source": [
    "center = [-6.2, 106.5]\n",
    "zoom = 9\n",
    "\n",
    "# Create map\n",
    "m = geemap.Map(center=center, \n",
    "               zoom=zoom, \n",
    "               basemap=basemaps.CartoDB.DarkMatter, \n",
    "               add_google_map=False)\n",
    "\n",
    "m"
   ]
  },
  {
   "cell_type": "code",
   "execution_count": 8,
   "id": "8f841ec9-91a7-40d4-b646-086d4331eb14",
   "metadata": {},
   "outputs": [],
   "source": [
    "wind = Velocity(\n",
    "    data=ds, \n",
    "    zonal_speed=u_wind, meridional_speed=v_wind, \n",
    "    latitude_dimension='lat', longitude_dimension='lon', \n",
    "    velocity_scale=0.01, max_velocity=20, \n",
    ")\n",
    "m.add_layer(wind)"
   ]
  },
  {
   "cell_type": "code",
   "execution_count": 9,
   "id": "6781d8ba-476c-46f3-a87e-35f7b9731828",
   "metadata": {},
   "outputs": [],
   "source": [
    "co_nrti = ee.ImageCollection('COPERNICUS/S5P/NRTI/L3_CO') \\\n",
    "    .filterDate(noon_wib.date().isoformat(), \n",
    "                (noon_wib + datetime.timedelta(days = 1)).date().isoformat()) \\\n",
    "    .select('CO_column_number_density').mean()\n",
    "\n",
    "band_viz = {\n",
    "    'min': 0,\n",
    "    'max': 0.05,\n",
    "    'palette': ['black', 'blue', 'purple', 'cyan', 'green', 'yellow', 'red']\n",
    "}\n",
    "\n",
    "m.addLayer(co_nrti, band_viz, 'Carbon Monoxide')"
   ]
  },
  {
   "cell_type": "code",
   "execution_count": 10,
   "id": "0b42fe65-f56d-461a-b8e8-134f517f8046",
   "metadata": {},
   "outputs": [],
   "source": [
    "indo_power = ee.FeatureCollection('WRI/GPPD/power_plants') \\\n",
    "    .filter(ee.Filter.eq('country', 'IDN'))"
   ]
  },
  {
   "cell_type": "code",
   "execution_count": 11,
   "id": "6bf5478d-da65-4619-a0d2-e285e734e5c8",
   "metadata": {},
   "outputs": [],
   "source": [
    "m.addLayer(indo_power, {'color' : 'ff0000'}, 'Power')"
   ]
  },
  {
   "cell_type": "code",
   "execution_count": null,
   "id": "c8d7a94c-06b8-47a4-9933-f31f94b61749",
   "metadata": {},
   "outputs": [],
   "source": []
  }
 ],
 "metadata": {
  "kernelspec": {
   "display_name": "Python 3 (ipykernel)",
   "language": "python",
   "name": "python3"
  },
  "language_info": {
   "codemirror_mode": {
    "name": "ipython",
    "version": 3
   },
   "file_extension": ".py",
   "mimetype": "text/x-python",
   "name": "python",
   "nbconvert_exporter": "python",
   "pygments_lexer": "ipython3",
   "version": "3.9.5"
  }
 },
 "nbformat": 4,
 "nbformat_minor": 5
}
